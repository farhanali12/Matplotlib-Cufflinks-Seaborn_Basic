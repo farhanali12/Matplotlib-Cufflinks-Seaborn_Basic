{
 "cells": [
  {
   "cell_type": "code",
   "execution_count": 1,
   "metadata": {},
   "outputs": [],
   "source": [
    "import pandas as pd\n",
    "import numpy as np\n",
    "import matplotlib.pyplot as plt\n"
   ]
  },
  {
   "cell_type": "code",
   "execution_count": 2,
   "metadata": {},
   "outputs": [],
   "source": [
    "from plotly import __version__"
   ]
  },
  {
   "cell_type": "code",
   "execution_count": 3,
   "metadata": {},
   "outputs": [],
   "source": [
    "import cufflinks as cf"
   ]
  },
  {
   "cell_type": "code",
   "execution_count": 4,
   "metadata": {},
   "outputs": [],
   "source": [
    "from plotly.offline import download_plotlyjs,init_notebook_mode,plot,iplot"
   ]
  },
  {
   "cell_type": "code",
   "execution_count": 5,
   "metadata": {},
   "outputs": [
    {
     "data": {
      "text/html": [
       "        <script type=\"text/javascript\">\n",
       "        window.PlotlyConfig = {MathJaxConfig: 'local'};\n",
       "        if (window.MathJax) {MathJax.Hub.Config({SVG: {font: \"STIX-Web\"}});}\n",
       "        if (typeof require !== 'undefined') {\n",
       "        require.undef(\"plotly\");\n",
       "        requirejs.config({\n",
       "            paths: {\n",
       "                'plotly': ['https://cdn.plot.ly/plotly-latest.min']\n",
       "            }\n",
       "        });\n",
       "        require(['plotly'], function(Plotly) {\n",
       "            window._Plotly = Plotly;\n",
       "        });\n",
       "        }\n",
       "        </script>\n",
       "        "
      ]
     },
     "metadata": {},
     "output_type": "display_data"
    }
   ],
   "source": [
    "init_notebook_mode(connected=True)"
   ]
  },
  {
   "cell_type": "code",
   "execution_count": 6,
   "metadata": {},
   "outputs": [
    {
     "data": {
      "text/html": [
       "        <script type=\"text/javascript\">\n",
       "        window.PlotlyConfig = {MathJaxConfig: 'local'};\n",
       "        if (window.MathJax) {MathJax.Hub.Config({SVG: {font: \"STIX-Web\"}});}\n",
       "        if (typeof require !== 'undefined') {\n",
       "        require.undef(\"plotly\");\n",
       "        requirejs.config({\n",
       "            paths: {\n",
       "                'plotly': ['https://cdn.plot.ly/plotly-latest.min']\n",
       "            }\n",
       "        });\n",
       "        require(['plotly'], function(Plotly) {\n",
       "            window._Plotly = Plotly;\n",
       "        });\n",
       "        }\n",
       "        </script>\n",
       "        "
      ]
     },
     "metadata": {},
     "output_type": "display_data"
    }
   ],
   "source": [
    "cf.go_offline()"
   ]
  },
  {
   "cell_type": "code",
   "execution_count": 7,
   "metadata": {
    "scrolled": true
   },
   "outputs": [
    {
     "data": {
      "text/html": [
       "<div>\n",
       "<style scoped>\n",
       "    .dataframe tbody tr th:only-of-type {\n",
       "        vertical-align: middle;\n",
       "    }\n",
       "\n",
       "    .dataframe tbody tr th {\n",
       "        vertical-align: top;\n",
       "    }\n",
       "\n",
       "    .dataframe thead th {\n",
       "        text-align: right;\n",
       "    }\n",
       "</style>\n",
       "<table border=\"1\" class=\"dataframe\">\n",
       "  <thead>\n",
       "    <tr style=\"text-align: right;\">\n",
       "      <th></th>\n",
       "      <th>Gold</th>\n",
       "      <th>Silver</th>\n",
       "      <th>Bronze</th>\n",
       "    </tr>\n",
       "    <tr>\n",
       "      <th>Team (IOC code)</th>\n",
       "      <th></th>\n",
       "      <th></th>\n",
       "      <th></th>\n",
       "    </tr>\n",
       "  </thead>\n",
       "  <tbody>\n",
       "    <tr>\n",
       "      <td>Afghanistan (AFG)</td>\n",
       "      <td>NaN</td>\n",
       "      <td>NaN</td>\n",
       "      <td>2.0</td>\n",
       "    </tr>\n",
       "    <tr>\n",
       "      <td>Algeria (ALG)</td>\n",
       "      <td>5.0</td>\n",
       "      <td>2.0</td>\n",
       "      <td>8.0</td>\n",
       "    </tr>\n",
       "    <tr>\n",
       "      <td>Argentina (ARG)</td>\n",
       "      <td>18.0</td>\n",
       "      <td>24.0</td>\n",
       "      <td>28.0</td>\n",
       "    </tr>\n",
       "    <tr>\n",
       "      <td>Armenia (ARM)</td>\n",
       "      <td>1.0</td>\n",
       "      <td>2.0</td>\n",
       "      <td>9.0</td>\n",
       "    </tr>\n",
       "    <tr>\n",
       "      <td>Australasia (ANZ) [ANZ]</td>\n",
       "      <td>3.0</td>\n",
       "      <td>4.0</td>\n",
       "      <td>5.0</td>\n",
       "    </tr>\n",
       "    <tr>\n",
       "      <td>...</td>\n",
       "      <td>...</td>\n",
       "      <td>...</td>\n",
       "      <td>...</td>\n",
       "    </tr>\n",
       "    <tr>\n",
       "      <td>Yugoslavia (YUG) [YUG]</td>\n",
       "      <td>26.0</td>\n",
       "      <td>29.0</td>\n",
       "      <td>28.0</td>\n",
       "    </tr>\n",
       "    <tr>\n",
       "      <td>Independent Olympic Participants (IOP) [IOP]</td>\n",
       "      <td>NaN</td>\n",
       "      <td>1.0</td>\n",
       "      <td>2.0</td>\n",
       "    </tr>\n",
       "    <tr>\n",
       "      <td>Zambia (ZAM) [ZAM]</td>\n",
       "      <td>NaN</td>\n",
       "      <td>1.0</td>\n",
       "      <td>1.0</td>\n",
       "    </tr>\n",
       "    <tr>\n",
       "      <td>Zimbabwe (ZIM) [ZIM]</td>\n",
       "      <td>3.0</td>\n",
       "      <td>4.0</td>\n",
       "      <td>1.0</td>\n",
       "    </tr>\n",
       "    <tr>\n",
       "      <td>Mixed team (ZZX) [ZZX]</td>\n",
       "      <td>8.0</td>\n",
       "      <td>5.0</td>\n",
       "      <td>4.0</td>\n",
       "    </tr>\n",
       "  </tbody>\n",
       "</table>\n",
       "<p>147 rows × 3 columns</p>\n",
       "</div>"
      ],
      "text/plain": [
       "                                               Gold  Silver  Bronze\n",
       "Team (IOC code)                                                    \n",
       " Afghanistan (AFG)                              NaN     NaN     2.0\n",
       " Algeria (ALG)                                  5.0     2.0     8.0\n",
       " Argentina (ARG)                               18.0    24.0    28.0\n",
       " Armenia (ARM)                                  1.0     2.0     9.0\n",
       " Australasia (ANZ) [ANZ]                        3.0     4.0     5.0\n",
       "...                                             ...     ...     ...\n",
       " Yugoslavia (YUG) [YUG]                        26.0    29.0    28.0\n",
       " Independent Olympic Participants (IOP) [IOP]   NaN     1.0     2.0\n",
       " Zambia (ZAM) [ZAM]                             NaN     1.0     1.0\n",
       " Zimbabwe (ZIM) [ZIM]                           3.0     4.0     1.0\n",
       " Mixed team (ZZX) [ZZX]                         8.0     5.0     4.0\n",
       "\n",
       "[147 rows x 3 columns]"
      ]
     },
     "execution_count": 7,
     "metadata": {},
     "output_type": "execute_result"
    }
   ],
   "source": [
    "data=pd.read_excel('medals.xlsx',index_col=0)\n",
    "data"
   ]
  },
  {
   "cell_type": "code",
   "execution_count": 8,
   "metadata": {},
   "outputs": [],
   "source": [
    "#filling all na values\n",
    "data=data.dropna()"
   ]
  },
  {
   "cell_type": "code",
   "execution_count": 39,
   "metadata": {
    "scrolled": false
   },
   "outputs": [
    {
     "data": {
      "text/plain": [
       "<function matplotlib.pyplot.legend(*args, **kwargs)>"
      ]
     },
     "execution_count": 39,
     "metadata": {},
     "output_type": "execute_result"
    },
    {
     "data": {
      "image/png": "[encoded data removed]",
      "text/plain": [
       "<Figure size 1440x360 with 1 Axes>"
      ]
     },
     "metadata": {
      "needs_background": "light"
     },
     "output_type": "display_data"
    }
   ],
   "source": [
    "fig,ax=plt.subplots(figsize=(20,5))\n",
    "ax.set_xticklabels(data.index,rotation=90)\n",
    "ax.bar(data.index,data['Silver'],color='black')\n",
    "ax.bar(data.index,data['Gold'],color='red')\n",
    "ax.bar(data.index,data['Bronze'],color='green')\n",
    "plt.plot(label='Silver')\n",
    "plt.plot(label='Gold')\n",
    "plt.plot(label='Broze')\n",
    "plt.legend\n"
   ]
  },
  {
   "cell_type": "code",
   "execution_count": 33,
   "metadata": {
    "scrolled": true
   },
   "outputs": [
    {
     "data": {
      "image/png": "[encoded data removed]",
      "text/plain": [
       "<Figure size 1440x360 with 1 Axes>"
      ]
     },
     "metadata": {
      "needs_background": "light"
     },
     "output_type": "display_data"
    }
   ],
   "source": [
    "fig,ax=plt.subplots(figsize=(20,5))\n",
    "ax.bar(data.index,data['Gold'])\n",
    "ax.set_xticklabels(data.index,rotation=90)\n",
    "ax.bar(data.index,data['Silver'],bottom=data['Gold'])\n",
    "ax.grid()"
   ]
  },
  {
   "cell_type": "code",
   "execution_count": 11,
   "metadata": {},
   "outputs": [
    {
     "data": {
      "image/png": "[encoded data removed]",
      "text/plain": [
       "<Figure size 1440x360 with 1 Axes>"
      ]
     },
     "metadata": {
      "needs_background": "light"
     },
     "output_type": "display_data"
    }
   ],
   "source": [
    "fig,ax=plt.subplots(figsize=(20,5))\n",
    "ax.set_facecolor((0.24,0.24,0.43))\n",
    "ax.set_xticklabels(data.index,rotation=90)\n",
    "ax.bar(data.index,data['Gold'],color='yellow')\n",
    "ax.bar(data.index,data['Silver'],color='#d6d4d4',bottom=data['Gold'])\n",
    "ax.bar(data.index,data['Bronze'],color='#B08D57',bottom=data['Silver'])\n",
    "ax.grid(color='orange')\n",
    "fig.savefig('medals.png')"
   ]
  },
  {
   "cell_type": "code",
   "execution_count": 12,
   "metadata": {},
   "outputs": [
    {
     "data": {
      "text/html": [
       "<div>\n",
       "<style scoped>\n",
       "    .dataframe tbody tr th:only-of-type {\n",
       "        vertical-align: middle;\n",
       "    }\n",
       "\n",
       "    .dataframe tbody tr th {\n",
       "        vertical-align: top;\n",
       "    }\n",
       "\n",
       "    .dataframe thead th {\n",
       "        text-align: right;\n",
       "    }\n",
       "</style>\n",
       "<table border=\"1\" class=\"dataframe\">\n",
       "  <thead>\n",
       "    <tr style=\"text-align: right;\">\n",
       "      <th></th>\n",
       "      <th>Gold</th>\n",
       "      <th>Silver</th>\n",
       "      <th>Bronze</th>\n",
       "    </tr>\n",
       "    <tr>\n",
       "      <th>Team (IOC code)</th>\n",
       "      <th></th>\n",
       "      <th></th>\n",
       "      <th></th>\n",
       "    </tr>\n",
       "  </thead>\n",
       "  <tbody>\n",
       "    <tr>\n",
       "      <td>Algeria (ALG)</td>\n",
       "      <td>5.0</td>\n",
       "      <td>2.0</td>\n",
       "      <td>8.0</td>\n",
       "    </tr>\n",
       "    <tr>\n",
       "      <td>Argentina (ARG)</td>\n",
       "      <td>18.0</td>\n",
       "      <td>24.0</td>\n",
       "      <td>28.0</td>\n",
       "    </tr>\n",
       "    <tr>\n",
       "      <td>Armenia (ARM)</td>\n",
       "      <td>1.0</td>\n",
       "      <td>2.0</td>\n",
       "      <td>9.0</td>\n",
       "    </tr>\n",
       "    <tr>\n",
       "      <td>Australasia (ANZ) [ANZ]</td>\n",
       "      <td>3.0</td>\n",
       "      <td>4.0</td>\n",
       "      <td>5.0</td>\n",
       "    </tr>\n",
       "    <tr>\n",
       "      <td>Australia (AUS) [AUS] [Z]</td>\n",
       "      <td>140.0</td>\n",
       "      <td>152.0</td>\n",
       "      <td>177.0</td>\n",
       "    </tr>\n",
       "  </tbody>\n",
       "</table>\n",
       "</div>"
      ],
      "text/plain": [
       "                             Gold  Silver  Bronze\n",
       "Team (IOC code)                                  \n",
       " Algeria (ALG)                5.0     2.0     8.0\n",
       " Argentina (ARG)             18.0    24.0    28.0\n",
       " Armenia (ARM)                1.0     2.0     9.0\n",
       " Australasia (ANZ) [ANZ]      3.0     4.0     5.0\n",
       " Australia (AUS) [AUS] [Z]  140.0   152.0   177.0"
      ]
     },
     "execution_count": 12,
     "metadata": {},
     "output_type": "execute_result"
    }
   ],
   "source": [
    "data.head()"
   ]
  },
  {
   "cell_type": "code",
   "execution_count": 13,
   "metadata": {},
   "outputs": [
    {
     "data": {
      "text/html": [
       "<div>\n",
       "<style scoped>\n",
       "    .dataframe tbody tr th:only-of-type {\n",
       "        vertical-align: middle;\n",
       "    }\n",
       "\n",
       "    .dataframe tbody tr th {\n",
       "        vertical-align: top;\n",
       "    }\n",
       "\n",
       "    .dataframe thead th {\n",
       "        text-align: right;\n",
       "    }\n",
       "</style>\n",
       "<table border=\"1\" class=\"dataframe\">\n",
       "  <thead>\n",
       "    <tr style=\"text-align: right;\">\n",
       "      <th></th>\n",
       "      <th>Gold</th>\n",
       "      <th>Silver</th>\n",
       "      <th>Bronze</th>\n",
       "    </tr>\n",
       "    <tr>\n",
       "      <th>Team (IOC code)</th>\n",
       "      <th></th>\n",
       "      <th></th>\n",
       "      <th></th>\n",
       "    </tr>\n",
       "  </thead>\n",
       "  <tbody>\n",
       "    <tr>\n",
       "      <td>Algeria (ALG)</td>\n",
       "      <td>5.0</td>\n",
       "      <td>2.0</td>\n",
       "      <td>8.0</td>\n",
       "    </tr>\n",
       "    <tr>\n",
       "      <td>Argentina (ARG)</td>\n",
       "      <td>18.0</td>\n",
       "      <td>24.0</td>\n",
       "      <td>28.0</td>\n",
       "    </tr>\n",
       "    <tr>\n",
       "      <td>Armenia (ARM)</td>\n",
       "      <td>1.0</td>\n",
       "      <td>2.0</td>\n",
       "      <td>9.0</td>\n",
       "    </tr>\n",
       "    <tr>\n",
       "      <td>Australasia (ANZ) [ANZ]</td>\n",
       "      <td>3.0</td>\n",
       "      <td>4.0</td>\n",
       "      <td>5.0</td>\n",
       "    </tr>\n",
       "    <tr>\n",
       "      <td>Australia (AUS) [AUS] [Z]</td>\n",
       "      <td>140.0</td>\n",
       "      <td>152.0</td>\n",
       "      <td>177.0</td>\n",
       "    </tr>\n",
       "    <tr>\n",
       "      <td>...</td>\n",
       "      <td>...</td>\n",
       "      <td>...</td>\n",
       "      <td>...</td>\n",
       "    </tr>\n",
       "    <tr>\n",
       "      <td>Uzbekistan (UZB)</td>\n",
       "      <td>5.0</td>\n",
       "      <td>5.0</td>\n",
       "      <td>10.0</td>\n",
       "    </tr>\n",
       "    <tr>\n",
       "      <td>Venezuela (VEN)</td>\n",
       "      <td>2.0</td>\n",
       "      <td>2.0</td>\n",
       "      <td>8.0</td>\n",
       "    </tr>\n",
       "    <tr>\n",
       "      <td>Yugoslavia (YUG) [YUG]</td>\n",
       "      <td>26.0</td>\n",
       "      <td>29.0</td>\n",
       "      <td>28.0</td>\n",
       "    </tr>\n",
       "    <tr>\n",
       "      <td>Zimbabwe (ZIM) [ZIM]</td>\n",
       "      <td>3.0</td>\n",
       "      <td>4.0</td>\n",
       "      <td>1.0</td>\n",
       "    </tr>\n",
       "    <tr>\n",
       "      <td>Mixed team (ZZX) [ZZX]</td>\n",
       "      <td>8.0</td>\n",
       "      <td>5.0</td>\n",
       "      <td>4.0</td>\n",
       "    </tr>\n",
       "  </tbody>\n",
       "</table>\n",
       "<p>89 rows × 3 columns</p>\n",
       "</div>"
      ],
      "text/plain": [
       "                             Gold  Silver  Bronze\n",
       "Team (IOC code)                                  \n",
       " Algeria (ALG)                5.0     2.0     8.0\n",
       " Argentina (ARG)             18.0    24.0    28.0\n",
       " Armenia (ARM)                1.0     2.0     9.0\n",
       " Australasia (ANZ) [ANZ]      3.0     4.0     5.0\n",
       " Australia (AUS) [AUS] [Z]  140.0   152.0   177.0\n",
       "...                           ...     ...     ...\n",
       " Uzbekistan (UZB)             5.0     5.0    10.0\n",
       " Venezuela (VEN)              2.0     2.0     8.0\n",
       " Yugoslavia (YUG) [YUG]      26.0    29.0    28.0\n",
       " Zimbabwe (ZIM) [ZIM]         3.0     4.0     1.0\n",
       " Mixed team (ZZX) [ZZX]       8.0     5.0     4.0\n",
       "\n",
       "[89 rows x 3 columns]"
      ]
     },
     "execution_count": 13,
     "metadata": {},
     "output_type": "execute_result"
    }
   ],
   "source": [
    "pd.DataFrame(data)"
   ]
  },
  {
   "cell_type": "code",
   "execution_count": 14,
   "metadata": {},
   "outputs": [
    {
     "data": {
      "application/vnd.plotly.v1+json": {
       "config": {
        "linkText": "Export to plot.ly",
        "plotlyServerURL": "https://plot.ly",
        "showLink": true
       },
       "data": [
        {
         "line": {
          "color": "rgba(255, 153, 51, 1.0)",
          "dash": "solid",
          "shape": "linear",
          "width": 1.3
         },
         "mode": "lines",
         "name": "Gold",
         "text": "",
         "type": "scatter",
         "x": [
          " Algeria (ALG)",
          " Argentina (ARG)",
          " Armenia (ARM)",
          " Australasia (ANZ) [ANZ]",
          " Australia (AUS) [AUS] [Z]",
          " Austria (AUT)",
          " Azerbaijan (AZE)",
          " Belarus (BLR)",
          " Belgium (BEL)",
          " Brazil (BRA)",
          " Bulgaria (BUL) [H]",
          " Cameroon (CMR)",
          " Canada (CAN)",
          " Chile (CHI) [I]",
          " China (CHN) [CHN]",
          " Colombia (COL)",
          " Costa Rica (CRC)",
          " Croatia (CRO)",
          " Cuba (CUB) [Z]",
          " Czech Republic (CZE) [CZE]",
          " Czechoslovakia (TCH) [TCH]",
          " Denmark (DEN) [Z]",
          " Dominican Republic (DOM)",
          " Egypt (EGY) [EGY] [Z]",
          " Estonia (EST)",
          " Ethiopia (ETH)",
          " Finland (FIN)",
          " France (FRA) [O] [P] [Z]",
          " Georgia (GEO)",
          " Germany (GER) [GER] [Z]",
          " United Team of Germany (EUA)[EUA]",
          " East Germany (GDR) [GDR]",
          " West Germany (FRG) [FRG]",
          " Great Britain (GBR) [GBR] [Z]",
          " Greece (GRE) [Z]",
          " Hong Kong (HKG) [HKG]",
          " Hungary (HUN)",
          " India (IND) [F]",
          " Indonesia (INA)",
          " Iran (IRI) [K]",
          " Ireland (IRL)",
          " Israel (ISR)",
          " Italy (ITA) [M] [S]",
          " Jamaica (JAM) [JAM]",
          " Japan (JPN)",
          " Kazakhstan (KAZ)",
          " Kenya (KEN)",
          " North Korea (PRK)",
          " South Korea (KOR)",
          " Latvia (LAT)",
          " Lithuania (LTU)",
          " Mexico (MEX)",
          " Mongolia (MGL)",
          " Morocco (MAR)",
          " Netherlands (NED) [Z]",
          " New Zealand (NZL) [NZL]",
          " Nigeria (NGR)",
          " Norway (NOR) [Q]",
          " Pakistan (PAK)",
          " Poland (POL)",
          " Portugal (POR)",
          " Romania (ROU)",
          " Russia (RUS) [RUS]",
          " Russian Empire (RU1) [RU1]",
          " Soviet Union (URS) [URS]",
          " Unified Team (EUN) [EUN]",
          " Serbia (SRB) [SRB]",
          " Serbia and Montenegro (SCG)[SCG]",
          " Slovakia (SVK) [SVK]",
          " Slovenia (SLO)",
          " South Africa (RSA)",
          " Spain (ESP) [Z]",
          " Sweden (SWE) [Z]",
          " Switzerland (SUI)",
          " Syria (SYR)",
          " Chinese Taipei (TPE) [TPE] [TPE2]",
          " Thailand (THA)",
          " Trinidad and Tobago (TRI) [TRI]",
          " Tunisia (TUN)",
          " Turkey (TUR)",
          " Uganda (UGA)",
          " Ukraine (UKR)",
          " United States (USA)",
          " Uruguay (URU)",
          " Uzbekistan (UZB)",
          " Venezuela (VEN)",
          " Yugoslavia (YUG) [YUG]",
          " Zimbabwe (ZIM) [ZIM]",
          " Mixed team (ZZX) [ZZX]"
         ],
         "y": [
          5,
          18,
          1,
          3,
          140,
          18,
          6,
          12,
          37,
          23,
          51,
          3,
          59,
          2,
          201,
          3,
          1,
          7,
          72,
          14,
          49,
          43,
          3,
          7,
          9,
          21,
          101,
          202,
          6,
          174,
          28,
          153,
          56,
          236,
          30,
          1,
          167,
          9,
          6,
          15,
          9,
          1,
          198,
          17,
          130,
          16,
          25,
          14,
          81,
          3,
          6,
          13,
          2,
          6,
          77,
          42,
          3,
          56,
          3,
          64,
          4,
          88,
          132,
          1,
          395,
          45,
          1,
          2,
          7,
          4,
          23,
          37,
          143,
          47,
          1,
          3,
          8,
          2,
          4,
          38,
          2,
          33,
          977,
          2,
          5,
          2,
          26,
          3,
          8
         ]
        },
        {
         "line": {
          "color": "rgba(55, 128, 191, 1.0)",
          "dash": "solid",
          "shape": "linear",
          "width": 1.3
         },
         "mode": "lines",
         "name": "Silver",
         "text": "",
         "type": "scatter",
         "x": [
          " Algeria (ALG)",
          " Argentina (ARG)",
          " Armenia (ARM)",
          " Australasia (ANZ) [ANZ]",
          " Australia (AUS) [AUS] [Z]",
          " Austria (AUT)",
          " Azerbaijan (AZE)",
          " Belarus (BLR)",
          " Belgium (BEL)",
          " Brazil (BRA)",
          " Bulgaria (BUL) [H]",
          " Cameroon (CMR)",
          " Canada (CAN)",
          " Chile (CHI) [I]",
          " China (CHN) [CHN]",
          " Colombia (COL)",
          " Costa Rica (CRC)",
          " Croatia (CRO)",
          " Cuba (CUB) [Z]",
          " Czech Republic (CZE) [CZE]",
          " Czechoslovakia (TCH) [TCH]",
          " Denmark (DEN) [Z]",
          " Dominican Republic (DOM)",
          " Egypt (EGY) [EGY] [Z]",
          " Estonia (EST)",
          " Ethiopia (ETH)",
          " Finland (FIN)",
          " France (FRA) [O] [P] [Z]",
          " Georgia (GEO)",
          " Germany (GER) [GER] [Z]",
          " United Team of Germany (EUA)[EUA]",
          " East Germany (GDR) [GDR]",
          " West Germany (FRG) [FRG]",
          " Great Britain (GBR) [GBR] [Z]",
          " Greece (GRE) [Z]",
          " Hong Kong (HKG) [HKG]",
          " Hungary (HUN)",
          " India (IND) [F]",
          " Indonesia (INA)",
          " Iran (IRI) [K]",
          " Ireland (IRL)",
          " Israel (ISR)",
          " Italy (ITA) [M] [S]",
          " Jamaica (JAM) [JAM]",
          " Japan (JPN)",
          " Kazakhstan (KAZ)",
          " Kenya (KEN)",
          " North Korea (PRK)",
          " South Korea (KOR)",
          " Latvia (LAT)",
          " Lithuania (LTU)",
          " Mexico (MEX)",
          " Mongolia (MGL)",
          " Morocco (MAR)",
          " Netherlands (NED) [Z]",
          " New Zealand (NZL) [NZL]",
          " Nigeria (NGR)",
          " Norway (NOR) [Q]",
          " Pakistan (PAK)",
          " Poland (POL)",
          " Portugal (POR)",
          " Romania (ROU)",
          " Russia (RUS) [RUS]",
          " Russian Empire (RU1) [RU1]",
          " Soviet Union (URS) [URS]",
          " Unified Team (EUN) [EUN]",
          " Serbia (SRB) [SRB]",
          " Serbia and Montenegro (SCG)[SCG]",
          " Slovakia (SVK) [SVK]",
          " Slovenia (SLO)",
          " South Africa (RSA)",
          " Spain (ESP) [Z]",
          " Sweden (SWE) [Z]",
          " Switzerland (SUI)",
          " Syria (SYR)",
          " Chinese Taipei (TPE) [TPE] [TPE2]",
          " Thailand (THA)",
          " Trinidad and Tobago (TRI) [TRI]",
          " Tunisia (TUN)",
          " Turkey (TUR)",
          " Uganda (UGA)",
          " Ukraine (UKR)",
          " United States (USA)",
          " Uruguay (URU)",
          " Uzbekistan (UZB)",
          " Venezuela (VEN)",
          " Yugoslavia (YUG) [YUG]",
          " Zimbabwe (ZIM) [ZIM]",
          " Mixed team (ZZX) [ZZX]"
         ],
         "y": [
          2,
          24,
          2,
          4,
          152,
          33,
          6,
          24,
          52,
          30,
          85,
          1,
          99,
          7,
          147,
          6,
          1,
          7,
          67,
          15,
          49,
          68,
          2,
          10,
          9,
          7,
          84,
          223,
          5,
          182,
          54,
          129,
          67,
          272,
          42,
          1,
          144,
          6,
          11,
          20,
          8,
          1,
          166,
          30,
          126,
          17,
          32,
          12,
          82,
          11,
          5,
          21,
          9,
          5,
          85,
          19,
          8,
          49,
          3,
          82,
          8,
          94,
          121,
          4,
          319,
          38,
          2,
          4,
          9,
          6,
          26,
          59,
          164,
          73,
          1,
          6,
          6,
          5,
          3,
          24,
          3,
          27,
          757,
          2,
          5,
          2,
          29,
          4,
          5
         ]
        },
        {
         "line": {
          "color": "rgba(50, 171, 96, 1.0)",
          "dash": "solid",
          "shape": "linear",
          "width": 1.3
         },
         "mode": "lines",
         "name": "Bronze",
         "text": "",
         "type": "scatter",
         "x": [
          " Algeria (ALG)",
          " Argentina (ARG)",
          " Armenia (ARM)",
          " Australasia (ANZ) [ANZ]",
          " Australia (AUS) [AUS] [Z]",
          " Austria (AUT)",
          " Azerbaijan (AZE)",
          " Belarus (BLR)",
          " Belgium (BEL)",
          " Brazil (BRA)",
          " Bulgaria (BUL) [H]",
          " Cameroon (CMR)",
          " Canada (CAN)",
          " Chile (CHI) [I]",
          " China (CHN) [CHN]",
          " Colombia (COL)",
          " Costa Rica (CRC)",
          " Croatia (CRO)",
          " Cuba (CUB) [Z]",
          " Czech Republic (CZE) [CZE]",
          " Czechoslovakia (TCH) [TCH]",
          " Denmark (DEN) [Z]",
          " Dominican Republic (DOM)",
          " Egypt (EGY) [EGY] [Z]",
          " Estonia (EST)",
          " Ethiopia (ETH)",
          " Finland (FIN)",
          " France (FRA) [O] [P] [Z]",
          " Georgia (GEO)",
          " Germany (GER) [GER] [Z]",
          " United Team of Germany (EUA)[EUA]",
          " East Germany (GDR) [GDR]",
          " West Germany (FRG) [FRG]",
          " Great Britain (GBR) [GBR] [Z]",
          " Greece (GRE) [Z]",
          " Hong Kong (HKG) [HKG]",
          " Hungary (HUN)",
          " India (IND) [F]",
          " Indonesia (INA)",
          " Iran (IRI) [K]",
          " Ireland (IRL)",
          " Israel (ISR)",
          " Italy (ITA) [M] [S]",
          " Jamaica (JAM) [JAM]",
          " Japan (JPN)",
          " Kazakhstan (KAZ)",
          " Kenya (KEN)",
          " North Korea (PRK)",
          " South Korea (KOR)",
          " Latvia (LAT)",
          " Lithuania (LTU)",
          " Mexico (MEX)",
          " Mongolia (MGL)",
          " Morocco (MAR)",
          " Netherlands (NED) [Z]",
          " New Zealand (NZL) [NZL]",
          " Nigeria (NGR)",
          " Norway (NOR) [Q]",
          " Pakistan (PAK)",
          " Poland (POL)",
          " Portugal (POR)",
          " Romania (ROU)",
          " Russia (RUS) [RUS]",
          " Russian Empire (RU1) [RU1]",
          " Soviet Union (URS) [URS]",
          " Unified Team (EUN) [EUN]",
          " Serbia (SRB) [SRB]",
          " Serbia and Montenegro (SCG)[SCG]",
          " Slovakia (SVK) [SVK]",
          " Slovenia (SLO)",
          " South Africa (RSA)",
          " Spain (ESP) [Z]",
          " Sweden (SWE) [Z]",
          " Switzerland (SUI)",
          " Syria (SYR)",
          " Chinese Taipei (TPE) [TPE] [TPE2]",
          " Thailand (THA)",
          " Trinidad and Tobago (TRI) [TRI]",
          " Tunisia (TUN)",
          " Turkey (TUR)",
          " Uganda (UGA)",
          " Ukraine (UKR)",
          " United States (USA)",
          " Uruguay (URU)",
          " Uzbekistan (UZB)",
          " Venezuela (VEN)",
          " Yugoslavia (YUG) [YUG]",
          " Zimbabwe (ZIM) [ZIM]",
          " Mixed team (ZZX) [ZZX]"
         ],
         "y": [
          8,
          28,
          9,
          5,
          177,
          35,
          15,
          39,
          53,
          55,
          78,
          1,
          122,
          4,
          127,
          11,
          2,
          10,
          70,
          15,
          45,
          68,
          1,
          11,
          15,
          17,
          117,
          246,
          15,
          217,
          36,
          127,
          81,
          272,
          39,
          1,
          165,
          11,
          11,
          25,
          12,
          6,
          185,
          20,
          142,
          19,
          29,
          21,
          80,
          5,
          10,
          28,
          13,
          11,
          104,
          39,
          12,
          43,
          4,
          125,
          11,
          119,
          142,
          3,
          296,
          29,
          4,
          3,
          8,
          9,
          27,
          35,
          176,
          65,
          1,
          12,
          12,
          11,
          4,
          24,
          2,
          55,
          666,
          6,
          10,
          8,
          28,
          1,
          4
         ]
        }
       ],
       "layout": {
        "legend": {
         "bgcolor": "#F5F6F9",
         "font": {
          "color": "#4D5663"
         }
        },
        "paper_bgcolor": "#F5F6F9",
        "plot_bgcolor": "#F5F6F9",
        "template": {
         "data": {
          "bar": [
           {
            "error_x": {
             "color": "#2a3f5f"
            },
            "error_y": {
             "color": "#2a3f5f"
            },
            "marker": {
             "line": {
              "color": "#E5ECF6",
              "width": 0.5
             }
            },
            "type": "bar"
           }
          ],
          "barpolar": [
           {
            "marker": {
             "line": {
              "color": "#E5ECF6",
              "width": 0.5
             }
            },
            "type": "barpolar"
           }
          ],
          "carpet": [
           {
            "aaxis": {
             "endlinecolor": "#2a3f5f",
             "gridcolor": "white",
             "linecolor": "white",
             "minorgridcolor": "white",
             "startlinecolor": "#2a3f5f"
            },
            "baxis": {
             "endlinecolor": "#2a3f5f",
             "gridcolor": "white",
             "linecolor": "white",
             "minorgridcolor": "white",
             "startlinecolor": "#2a3f5f"
            },
            "type": "carpet"
           }
          ],
          "choropleth": [
           {
            "colorbar": {
             "outlinewidth": 0,
             "ticks": ""
            },
            "type": "choropleth"
           }
          ],
          "contour": [
           {
            "colorbar": {
             "outlinewidth": 0,
             "ticks": ""
            },
            "colorscale": [
             [
              0,
              "#0d0887"
             ],
             [
              0.1111111111111111,
              "#46039f"
             ],
             [
              0.2222222222222222,
              "#7201a8"
             ],
             [
              0.3333333333333333,
              "#9c179e"
             ],
             [
              0.4444444444444444,
              "#bd3786"
             ],
             [
              0.5555555555555556,
              "#d8576b"
             ],
             [
              0.6666666666666666,
              "#ed7953"
             ],
             [
              0.7777777777777778,
              "#fb9f3a"
             ],
             [
              0.8888888888888888,
              "#fdca26"
             ],
             [
              1,
              "#f0f921"
             ]
            ],
            "type": "contour"
           }
          ],
          "contourcarpet": [
           {
            "colorbar": {
             "outlinewidth": 0,
             "ticks": ""
            },
            "type": "contourcarpet"
           }
          ],
          "heatmap": [
           {
            "colorbar": {
             "outlinewidth": 0,
             "ticks": ""
            },
            "colorscale": [
             [
              0,
              "#0d0887"
             ],
             [
              0.1111111111111111,
              "#46039f"
             ],
             [
              0.2222222222222222,
              "#7201a8"
             ],
             [
              0.3333333333333333,
              "#9c179e"
             ],
             [
              0.4444444444444444,
              "#bd3786"
             ],
             [
              0.5555555555555556,
              "#d8576b"
             ],
             [
              0.6666666666666666,
              "#ed7953"
             ],
             [
              0.7777777777777778,
              "#fb9f3a"
             ],
             [
              0.8888888888888888,
              "#fdca26"
             ],
             [
              1,
              "#f0f921"
             ]
            ],
            "type": "heatmap"
           }
          ],
          "heatmapgl": [
           {
            "colorbar": {
             "outlinewidth": 0,
             "ticks": ""
            },
            "colorscale": [
             [
              0,
              "#0d0887"
             ],
             [
              0.1111111111111111,
              "#46039f"
             ],
             [
              0.2222222222222222,
              "#7201a8"
             ],
             [
              0.3333333333333333,
              "#9c179e"
             ],
             [
              0.4444444444444444,
              "#bd3786"
             ],
             [
              0.5555555555555556,
              "#d8576b"
             ],
             [
              0.6666666666666666,
              "#ed7953"
             ],
             [
              0.7777777777777778,
              "#fb9f3a"
             ],
             [
              0.8888888888888888,
              "#fdca26"
             ],
             [
              1,
              "#f0f921"
             ]
            ],
            "type": "heatmapgl"
           }
          ],
          "histogram": [
           {
            "marker": {
             "colorbar": {
              "outlinewidth": 0,
              "ticks": ""
             }
            },
            "type": "histogram"
           }
          ],
          "histogram2d": [
           {
            "colorbar": {
             "outlinewidth": 0,
             "ticks": ""
            },
            "colorscale": [
             [
              0,
              "#0d0887"
             ],
             [
              0.1111111111111111,
              "#46039f"
             ],
             [
              0.2222222222222222,
              "#7201a8"
             ],
             [
              0.3333333333333333,
              "#9c179e"
             ],
             [
              0.4444444444444444,
              "#bd3786"
             ],
             [
              0.5555555555555556,
              "#d8576b"
             ],
             [
              0.6666666666666666,
              "#ed7953"
             ],
             [
              0.7777777777777778,
              "#fb9f3a"
             ],
             [
              0.8888888888888888,
              "#fdca26"
             ],
             [
              1,
              "#f0f921"
             ]
            ],
            "type": "histogram2d"
           }
          ],
          "histogram2dcontour": [
           {
            "colorbar": {
             "outlinewidth": 0,
             "ticks": ""
            },
            "colorscale": [
             [
              0,
              "#0d0887"
             ],
             [
              0.1111111111111111,
              "#46039f"
             ],
             [
              0.2222222222222222,
              "#7201a8"
             ],
             [
              0.3333333333333333,
              "#9c179e"
             ],
             [
              0.4444444444444444,
              "#bd3786"
             ],
             [
              0.5555555555555556,
              "#d8576b"
             ],
             [
              0.6666666666666666,
              "#ed7953"
             ],
             [
              0.7777777777777778,
              "#fb9f3a"
             ],
             [
              0.8888888888888888,
              "#fdca26"
             ],
             [
              1,
              "#f0f921"
             ]
            ],
            "type": "histogram2dcontour"
           }
          ],
          "mesh3d": [
           {
            "colorbar": {
             "outlinewidth": 0,
             "ticks": ""
            },
            "type": "mesh3d"
           }
          ],
          "parcoords": [
           {
            "line": {
             "colorbar": {
              "outlinewidth": 0,
              "ticks": ""
             }
            },
            "type": "parcoords"
           }
          ],
          "pie": [
           {
            "automargin": true,
            "type": "pie"
           }
          ],
          "scatter": [
           {
            "marker": {
             "colorbar": {
              "outlinewidth": 0,
              "ticks": ""
             }
            },
            "type": "scatter"
           }
          ],
          "scatter3d": [
           {
            "line": {
             "colorbar": {
              "outlinewidth": 0,
              "ticks": ""
             }
            },
            "marker": {
             "colorbar": {
              "outlinewidth": 0,
              "ticks": ""
             }
            },
            "type": "scatter3d"
           }
          ],
          "scattercarpet": [
           {
            "marker": {
             "colorbar": {
              "outlinewidth": 0,
              "ticks": ""
             }
            },
            "type": "scattercarpet"
           }
          ],
          "scattergeo": [
           {
            "marker": {
             "colorbar": {
              "outlinewidth": 0,
              "ticks": ""
             }
            },
            "type": "scattergeo"
           }
          ],
          "scattergl": [
           {
            "marker": {
             "colorbar": {
              "outlinewidth": 0,
              "ticks": ""
             }
            },
            "type": "scattergl"
           }
          ],
          "scattermapbox": [
           {
            "marker": {
             "colorbar": {
              "outlinewidth": 0,
              "ticks": ""
             }
            },
            "type": "scattermapbox"
           }
          ],
          "scatterpolar": [
           {
            "marker": {
             "colorbar": {
              "outlinewidth": 0,
              "ticks": ""
             }
            },
            "type": "scatterpolar"
           }
          ],
          "scatterpolargl": [
           {
            "marker": {
             "colorbar": {
              "outlinewidth": 0,
              "ticks": ""
             }
            },
            "type": "scatterpolargl"
           }
          ],
          "scatterternary": [
           {
            "marker": {
             "colorbar": {
              "outlinewidth": 0,
              "ticks": ""
             }
            },
            "type": "scatterternary"
           }
          ],
          "surface": [
           {
            "colorbar": {
             "outlinewidth": 0,
             "ticks": ""
            },
            "colorscale": [
             [
              0,
              "#0d0887"
             ],
             [
              0.1111111111111111,
              "#46039f"
             ],
             [
              0.2222222222222222,
              "#7201a8"
             ],
             [
              0.3333333333333333,
              "#9c179e"
             ],
             [
              0.4444444444444444,
              "#bd3786"
             ],
             [
              0.5555555555555556,
              "#d8576b"
             ],
             [
              0.6666666666666666,
              "#ed7953"
             ],
             [
              0.7777777777777778,
              "#fb9f3a"
             ],
             [
              0.8888888888888888,
              "#fdca26"
             ],
             [
              1,
              "#f0f921"
             ]
            ],
            "type": "surface"
           }
          ],
          "table": [
           {
            "cells": {
             "fill": {
              "color": "#EBF0F8"
             },
             "line": {
              "color": "white"
             }
            },
            "header": {
             "fill": {
              "color": "#C8D4E3"
             },
             "line": {
              "color": "white"
             }
            },
            "type": "table"
           }
          ]
         },
         "layout": {
          "annotationdefaults": {
           "arrowcolor": "#2a3f5f",
           "arrowhead": 0,
           "arrowwidth": 1
          },
          "coloraxis": {
           "colorbar": {
            "outlinewidth": 0,
            "ticks": ""
           }
          },
          "colorscale": {
           "diverging": [
            [
             0,
             "#8e0152"
            ],
            [
             0.1,
             "#c51b7d"
            ],
            [
             0.2,
             "#de77ae"
            ],
            [
             0.3,
             "#f1b6da"
            ],
            [
             0.4,
             "#fde0ef"
            ],
            [
             0.5,
             "#f7f7f7"
            ],
            [
             0.6,
             "#e6f5d0"
            ],
            [
             0.7,
             "#b8e186"
            ],
            [
             0.8,
             "#7fbc41"
            ],
            [
             0.9,
             "#4d9221"
            ],
            [
             1,
             "#276419"
            ]
           ],
           "sequential": [
            [
             0,
             "#0d0887"
            ],
            [
             0.1111111111111111,
             "#46039f"
            ],
            [
             0.2222222222222222,
             "#7201a8"
            ],
            [
             0.3333333333333333,
             "#9c179e"
            ],
            [
             0.4444444444444444,
             "#bd3786"
            ],
            [
             0.5555555555555556,
             "#d8576b"
            ],
            [
             0.6666666666666666,
             "#ed7953"
            ],
            [
             0.7777777777777778,
             "#fb9f3a"
            ],
            [
             0.8888888888888888,
             "#fdca26"
            ],
            [
             1,
             "#f0f921"
            ]
           ],
           "sequentialminus": [
            [
             0,
             "#0d0887"
            ],
            [
             0.1111111111111111,
             "#46039f"
            ],
            [
             0.2222222222222222,
             "#7201a8"
            ],
            [
             0.3333333333333333,
             "#9c179e"
            ],
            [
             0.4444444444444444,
             "#bd3786"
            ],
            [
             0.5555555555555556,
             "#d8576b"
            ],
            [
             0.6666666666666666,
             "#ed7953"
            ],
            [
             0.7777777777777778,
             "#fb9f3a"
            ],
            [
             0.8888888888888888,
             "#fdca26"
            ],
            [
             1,
             "#f0f921"
            ]
           ]
          },
          "colorway": [
           "#636efa",
           "#EF553B",
           "#00cc96",
           "#ab63fa",
           "#FFA15A",
           "#19d3f3",
           "#FF6692",
           "#B6E880",
           "#FF97FF",
           "#FECB52"
          ],
          "font": {
           "color": "#2a3f5f"
          },
          "geo": {
           "bgcolor": "white",
           "lakecolor": "white",
           "landcolor": "#E5ECF6",
           "showlakes": true,
           "showland": true,
           "subunitcolor": "white"
          },
          "hoverlabel": {
           "align": "left"
          },
          "hovermode": "closest",
          "mapbox": {
           "style": "light"
          },
          "paper_bgcolor": "white",
          "plot_bgcolor": "#E5ECF6",
          "polar": {
           "angularaxis": {
            "gridcolor": "white",
            "linecolor": "white",
            "ticks": ""
           },
           "bgcolor": "#E5ECF6",
           "radialaxis": {
            "gridcolor": "white",
            "linecolor": "white",
            "ticks": ""
           }
          },
          "scene": {
           "xaxis": {
            "backgroundcolor": "#E5ECF6",
            "gridcolor": "white",
            "gridwidth": 2,
            "linecolor": "white",
            "showbackground": true,
            "ticks": "",
            "zerolinecolor": "white"
           },
           "yaxis": {
            "backgroundcolor": "#E5ECF6",
            "gridcolor": "white",
            "gridwidth": 2,
            "linecolor": "white",
            "showbackground": true,
            "ticks": "",
            "zerolinecolor": "white"
           },
           "zaxis": {
            "backgroundcolor": "#E5ECF6",
            "gridcolor": "white",
            "gridwidth": 2,
            "linecolor": "white",
            "showbackground": true,
            "ticks": "",
            "zerolinecolor": "white"
           }
          },
          "shapedefaults": {
           "line": {
            "color": "#2a3f5f"
           }
          },
          "ternary": {
           "aaxis": {
            "gridcolor": "white",
            "linecolor": "white",
            "ticks": ""
           },
           "baxis": {
            "gridcolor": "white",
            "linecolor": "white",
            "ticks": ""
           },
           "bgcolor": "#E5ECF6",
           "caxis": {
            "gridcolor": "white",
            "linecolor": "white",
            "ticks": ""
           }
          },
          "title": {
           "x": 0.05
          },
          "xaxis": {
           "automargin": true,
           "gridcolor": "white",
           "linecolor": "white",
           "ticks": "",
           "title": {
            "standoff": 15
           },
           "zerolinecolor": "white",
           "zerolinewidth": 2
          },
          "yaxis": {
           "automargin": true,
           "gridcolor": "white",
           "linecolor": "white",
           "ticks": "",
           "title": {
            "standoff": 15
           },
           "zerolinecolor": "white",
           "zerolinewidth": 2
          }
         }
        },
        "title": {
         "font": {
          "color": "#4D5663"
         }
        },
        "xaxis": {
         "gridcolor": "#E1E5ED",
         "showgrid": true,
         "tickfont": {
          "color": "#4D5663"
         },
         "title": {
          "font": {
           "color": "#4D5663"
          },
          "text": ""
         },
         "zerolinecolor": "#E1E5ED"
        },
        "yaxis": {
         "gridcolor": "#E1E5ED",
         "showgrid": true,
         "tickfont": {
          "color": "#4D5663"
         },
         "title": {
          "font": {
           "color": "#4D5663"
          },
          "text": ""
         },
         "zerolinecolor": "#E1E5ED"
        }
       }
      },
      "text/html": [
       "<div>\n",
       "        \n",
       "        \n",
       "            <div id=\"e48aa88e-6ecc-4f09-bdc6-e0b481a62c57\" class=\"plotly-graph-div\" style=\"height:525px; width:100%;\"></div>\n",
       "            <script type=\"text/javascript\">\n",
       "                require([\"plotly\"], function(Plotly) {\n",
       "                    window.PLOTLYENV=window.PLOTLYENV || {};\n",
       "                    window.PLOTLYENV.BASE_URL='https://plot.ly';\n",
       "                    \n",
       "                if (document.getElementById(\"e48aa88e-6ecc-4f09-bdc6-e0b481a62c57\")) {\n",
       "                    Plotly.newPlot(\n",
       "                        'e48aa88e-6ecc-4f09-bdc6-e0b481a62c57',\n",
       "                        [{\"line\": {\"color\": \"rgba(255, 153, 51, 1.0)\", \"dash\": \"solid\", \"shape\": \"linear\", \"width\": 1.3}, \"mode\": \"lines\", \"name\": \"Gold\", \"text\": \"\", \"type\": \"scatter\", \"x\": [\"\\u00a0Algeria\\u00a0(ALG)\", \"\\u00a0Argentina\\u00a0(ARG)\", \"\\u00a0Armenia\\u00a0(ARM)\", \"\\u00a0Australasia\\u00a0(ANZ)\\u00a0[ANZ]\", \"\\u00a0Australia\\u00a0(AUS)\\u00a0[AUS]\\u00a0[Z]\", \"\\u00a0Austria\\u00a0(AUT)\", \"\\u00a0Azerbaijan\\u00a0(AZE)\", \"\\u00a0Belarus\\u00a0(BLR)\", \"\\u00a0Belgium\\u00a0(BEL)\", \"\\u00a0Brazil\\u00a0(BRA)\", \"\\u00a0Bulgaria\\u00a0(BUL)\\u00a0[H]\", \"\\u00a0Cameroon\\u00a0(CMR)\", \"\\u00a0Canada\\u00a0(CAN)\", \"\\u00a0Chile\\u00a0(CHI)\\u00a0[I]\", \"\\u00a0China\\u00a0(CHN)\\u00a0[CHN]\", \"\\u00a0Colombia\\u00a0(COL)\", \"\\u00a0Costa Rica\\u00a0(CRC)\", \"\\u00a0Croatia\\u00a0(CRO)\", \"\\u00a0Cuba\\u00a0(CUB)\\u00a0[Z]\", \"\\u00a0Czech Republic\\u00a0(CZE)\\u00a0[CZE]\", \"\\u00a0Czechoslovakia\\u00a0(TCH)\\u00a0[TCH]\", \"\\u00a0Denmark\\u00a0(DEN)\\u00a0[Z]\", \"\\u00a0Dominican Republic\\u00a0(DOM)\", \"\\u00a0Egypt\\u00a0(EGY)\\u00a0[EGY]\\u00a0[Z]\", \"\\u00a0Estonia\\u00a0(EST)\", \"\\u00a0Ethiopia\\u00a0(ETH)\", \"\\u00a0Finland\\u00a0(FIN)\", \"\\u00a0France\\u00a0(FRA)\\u00a0[O]\\u00a0[P]\\u00a0[Z]\", \"\\u00a0Georgia\\u00a0(GEO)\", \"\\u00a0Germany\\u00a0(GER)\\u00a0[GER]\\u00a0[Z]\", \"\\u00a0United Team of Germany\\u00a0(EUA)[EUA]\", \"\\u00a0East Germany\\u00a0(GDR)\\u00a0[GDR]\", \"\\u00a0West Germany\\u00a0(FRG)\\u00a0[FRG]\", \"\\u00a0Great Britain\\u00a0(GBR)\\u00a0[GBR]\\u00a0[Z]\", \"\\u00a0Greece\\u00a0(GRE)\\u00a0[Z]\", \"\\u00a0Hong Kong\\u00a0(HKG)\\u00a0[HKG]\", \"\\u00a0Hungary\\u00a0(HUN)\", \"\\u00a0India\\u00a0(IND)\\u00a0[F]\", \"\\u00a0Indonesia\\u00a0(INA)\", \"\\u00a0Iran\\u00a0(IRI)\\u00a0[K]\", \"\\u00a0Ireland\\u00a0(IRL)\", \"\\u00a0Israel\\u00a0(ISR)\", \"\\u00a0Italy\\u00a0(ITA)\\u00a0[M]\\u00a0[S]\", \"\\u00a0Jamaica\\u00a0(JAM)\\u00a0[JAM]\", \"\\u00a0Japan\\u00a0(JPN)\", \"\\u00a0Kazakhstan\\u00a0(KAZ)\", \"\\u00a0Kenya\\u00a0(KEN)\", \"\\u00a0North Korea\\u00a0(PRK)\", \"\\u00a0South Korea\\u00a0(KOR)\", \"\\u00a0Latvia\\u00a0(LAT)\", \"\\u00a0Lithuania\\u00a0(LTU)\", \"\\u00a0Mexico\\u00a0(MEX)\", \"\\u00a0Mongolia\\u00a0(MGL)\", \"\\u00a0Morocco\\u00a0(MAR)\", \"\\u00a0Netherlands\\u00a0(NED)\\u00a0[Z]\", \"\\u00a0New Zealand\\u00a0(NZL)\\u00a0[NZL]\", \"\\u00a0Nigeria\\u00a0(NGR)\", \"\\u00a0Norway\\u00a0(NOR)\\u00a0[Q]\", \"\\u00a0Pakistan\\u00a0(PAK)\", \"\\u00a0Poland\\u00a0(POL)\", \"\\u00a0Portugal\\u00a0(POR)\", \"\\u00a0Romania\\u00a0(ROU)\", \"\\u00a0Russia\\u00a0(RUS)\\u00a0[RUS]\", \"\\u00a0Russian Empire\\u00a0(RU1)\\u00a0[RU1]\", \"\\u00a0Soviet Union\\u00a0(URS)\\u00a0[URS]\", \"\\u00a0Unified Team\\u00a0(EUN)\\u00a0[EUN]\", \"\\u00a0Serbia\\u00a0(SRB)\\u00a0[SRB]\", \"\\u00a0Serbia and Montenegro\\u00a0(SCG)[SCG]\", \"\\u00a0Slovakia\\u00a0(SVK)\\u00a0[SVK]\", \"\\u00a0Slovenia\\u00a0(SLO)\", \"\\u00a0South Africa\\u00a0(RSA)\", \"\\u00a0Spain\\u00a0(ESP)\\u00a0[Z]\", \"\\u00a0Sweden\\u00a0(SWE)\\u00a0[Z]\", \"\\u00a0Switzerland\\u00a0(SUI)\", \"\\u00a0Syria\\u00a0(SYR)\", \"\\u00a0Chinese Taipei\\u00a0(TPE)\\u00a0[TPE]\\u00a0[TPE2]\", \"\\u00a0Thailand\\u00a0(THA)\", \"\\u00a0Trinidad and Tobago\\u00a0(TRI)\\u00a0[TRI]\", \"\\u00a0Tunisia\\u00a0(TUN)\", \"\\u00a0Turkey\\u00a0(TUR)\", \"\\u00a0Uganda\\u00a0(UGA)\", \"\\u00a0Ukraine\\u00a0(UKR)\", \"\\u00a0United States\\u00a0(USA)\", \"\\u00a0Uruguay\\u00a0(URU)\", \"\\u00a0Uzbekistan\\u00a0(UZB)\", \"\\u00a0Venezuela\\u00a0(VEN)\", \"\\u00a0Yugoslavia\\u00a0(YUG)\\u00a0[YUG]\", \"\\u00a0Zimbabwe\\u00a0(ZIM)\\u00a0[ZIM]\", \"\\u00a0Mixed team\\u00a0(ZZX)\\u00a0[ZZX]\"], \"y\": [5.0, 18.0, 1.0, 3.0, 140.0, 18.0, 6.0, 12.0, 37.0, 23.0, 51.0, 3.0, 59.0, 2.0, 201.0, 3.0, 1.0, 7.0, 72.0, 14.0, 49.0, 43.0, 3.0, 7.0, 9.0, 21.0, 101.0, 202.0, 6.0, 174.0, 28.0, 153.0, 56.0, 236.0, 30.0, 1.0, 167.0, 9.0, 6.0, 15.0, 9.0, 1.0, 198.0, 17.0, 130.0, 16.0, 25.0, 14.0, 81.0, 3.0, 6.0, 13.0, 2.0, 6.0, 77.0, 42.0, 3.0, 56.0, 3.0, 64.0, 4.0, 88.0, 132.0, 1.0, 395.0, 45.0, 1.0, 2.0, 7.0, 4.0, 23.0, 37.0, 143.0, 47.0, 1.0, 3.0, 8.0, 2.0, 4.0, 38.0, 2.0, 33.0, 977.0, 2.0, 5.0, 2.0, 26.0, 3.0, 8.0]}, {\"line\": {\"color\": \"rgba(55, 128, 191, 1.0)\", \"dash\": \"solid\", \"shape\": \"linear\", \"width\": 1.3}, \"mode\": \"lines\", \"name\": \"Silver\", \"text\": \"\", \"type\": \"scatter\", \"x\": [\"\\u00a0Algeria\\u00a0(ALG)\", \"\\u00a0Argentina\\u00a0(ARG)\", \"\\u00a0Armenia\\u00a0(ARM)\", \"\\u00a0Australasia\\u00a0(ANZ)\\u00a0[ANZ]\", \"\\u00a0Australia\\u00a0(AUS)\\u00a0[AUS]\\u00a0[Z]\", \"\\u00a0Austria\\u00a0(AUT)\", \"\\u00a0Azerbaijan\\u00a0(AZE)\", \"\\u00a0Belarus\\u00a0(BLR)\", \"\\u00a0Belgium\\u00a0(BEL)\", \"\\u00a0Brazil\\u00a0(BRA)\", \"\\u00a0Bulgaria\\u00a0(BUL)\\u00a0[H]\", \"\\u00a0Cameroon\\u00a0(CMR)\", \"\\u00a0Canada\\u00a0(CAN)\", \"\\u00a0Chile\\u00a0(CHI)\\u00a0[I]\", \"\\u00a0China\\u00a0(CHN)\\u00a0[CHN]\", \"\\u00a0Colombia\\u00a0(COL)\", \"\\u00a0Costa Rica\\u00a0(CRC)\", \"\\u00a0Croatia\\u00a0(CRO)\", \"\\u00a0Cuba\\u00a0(CUB)\\u00a0[Z]\", \"\\u00a0Czech Republic\\u00a0(CZE)\\u00a0[CZE]\", \"\\u00a0Czechoslovakia\\u00a0(TCH)\\u00a0[TCH]\", \"\\u00a0Denmark\\u00a0(DEN)\\u00a0[Z]\", \"\\u00a0Dominican Republic\\u00a0(DOM)\", \"\\u00a0Egypt\\u00a0(EGY)\\u00a0[EGY]\\u00a0[Z]\", \"\\u00a0Estonia\\u00a0(EST)\", \"\\u00a0Ethiopia\\u00a0(ETH)\", \"\\u00a0Finland\\u00a0(FIN)\", \"\\u00a0France\\u00a0(FRA)\\u00a0[O]\\u00a0[P]\\u00a0[Z]\", \"\\u00a0Georgia\\u00a0(GEO)\", \"\\u00a0Germany\\u00a0(GER)\\u00a0[GER]\\u00a0[Z]\", \"\\u00a0United Team of Germany\\u00a0(EUA)[EUA]\", \"\\u00a0East Germany\\u00a0(GDR)\\u00a0[GDR]\", \"\\u00a0West Germany\\u00a0(FRG)\\u00a0[FRG]\", \"\\u00a0Great Britain\\u00a0(GBR)\\u00a0[GBR]\\u00a0[Z]\", \"\\u00a0Greece\\u00a0(GRE)\\u00a0[Z]\", \"\\u00a0Hong Kong\\u00a0(HKG)\\u00a0[HKG]\", \"\\u00a0Hungary\\u00a0(HUN)\", \"\\u00a0India\\u00a0(IND)\\u00a0[F]\", \"\\u00a0Indonesia\\u00a0(INA)\", \"\\u00a0Iran\\u00a0(IRI)\\u00a0[K]\", \"\\u00a0Ireland\\u00a0(IRL)\", \"\\u00a0Israel\\u00a0(ISR)\", \"\\u00a0Italy\\u00a0(ITA)\\u00a0[M]\\u00a0[S]\", \"\\u00a0Jamaica\\u00a0(JAM)\\u00a0[JAM]\", \"\\u00a0Japan\\u00a0(JPN)\", \"\\u00a0Kazakhstan\\u00a0(KAZ)\", \"\\u00a0Kenya\\u00a0(KEN)\", \"\\u00a0North Korea\\u00a0(PRK)\", \"\\u00a0South Korea\\u00a0(KOR)\", \"\\u00a0Latvia\\u00a0(LAT)\", \"\\u00a0Lithuania\\u00a0(LTU)\", \"\\u00a0Mexico\\u00a0(MEX)\", \"\\u00a0Mongolia\\u00a0(MGL)\", \"\\u00a0Morocco\\u00a0(MAR)\", \"\\u00a0Netherlands\\u00a0(NED)\\u00a0[Z]\", \"\\u00a0New Zealand\\u00a0(NZL)\\u00a0[NZL]\", \"\\u00a0Nigeria\\u00a0(NGR)\", \"\\u00a0Norway\\u00a0(NOR)\\u00a0[Q]\", \"\\u00a0Pakistan\\u00a0(PAK)\", \"\\u00a0Poland\\u00a0(POL)\", \"\\u00a0Portugal\\u00a0(POR)\", \"\\u00a0Romania\\u00a0(ROU)\", \"\\u00a0Russia\\u00a0(RUS)\\u00a0[RUS]\", \"\\u00a0Russian Empire\\u00a0(RU1)\\u00a0[RU1]\", \"\\u00a0Soviet Union\\u00a0(URS)\\u00a0[URS]\", \"\\u00a0Unified Team\\u00a0(EUN)\\u00a0[EUN]\", \"\\u00a0Serbia\\u00a0(SRB)\\u00a0[SRB]\", \"\\u00a0Serbia and Montenegro\\u00a0(SCG)[SCG]\", \"\\u00a0Slovakia\\u00a0(SVK)\\u00a0[SVK]\", \"\\u00a0Slovenia\\u00a0(SLO)\", \"\\u00a0South Africa\\u00a0(RSA)\", \"\\u00a0Spain\\u00a0(ESP)\\u00a0[Z]\", \"\\u00a0Sweden\\u00a0(SWE)\\u00a0[Z]\", \"\\u00a0Switzerland\\u00a0(SUI)\", \"\\u00a0Syria\\u00a0(SYR)\", \"\\u00a0Chinese Taipei\\u00a0(TPE)\\u00a0[TPE]\\u00a0[TPE2]\", \"\\u00a0Thailand\\u00a0(THA)\", \"\\u00a0Trinidad and Tobago\\u00a0(TRI)\\u00a0[TRI]\", \"\\u00a0Tunisia\\u00a0(TUN)\", \"\\u00a0Turkey\\u00a0(TUR)\", \"\\u00a0Uganda\\u00a0(UGA)\", \"\\u00a0Ukraine\\u00a0(UKR)\", \"\\u00a0United States\\u00a0(USA)\", \"\\u00a0Uruguay\\u00a0(URU)\", \"\\u00a0Uzbekistan\\u00a0(UZB)\", \"\\u00a0Venezuela\\u00a0(VEN)\", \"\\u00a0Yugoslavia\\u00a0(YUG)\\u00a0[YUG]\", \"\\u00a0Zimbabwe\\u00a0(ZIM)\\u00a0[ZIM]\", \"\\u00a0Mixed team\\u00a0(ZZX)\\u00a0[ZZX]\"], \"y\": [2.0, 24.0, 2.0, 4.0, 152.0, 33.0, 6.0, 24.0, 52.0, 30.0, 85.0, 1.0, 99.0, 7.0, 147.0, 6.0, 1.0, 7.0, 67.0, 15.0, 49.0, 68.0, 2.0, 10.0, 9.0, 7.0, 84.0, 223.0, 5.0, 182.0, 54.0, 129.0, 67.0, 272.0, 42.0, 1.0, 144.0, 6.0, 11.0, 20.0, 8.0, 1.0, 166.0, 30.0, 126.0, 17.0, 32.0, 12.0, 82.0, 11.0, 5.0, 21.0, 9.0, 5.0, 85.0, 19.0, 8.0, 49.0, 3.0, 82.0, 8.0, 94.0, 121.0, 4.0, 319.0, 38.0, 2.0, 4.0, 9.0, 6.0, 26.0, 59.0, 164.0, 73.0, 1.0, 6.0, 6.0, 5.0, 3.0, 24.0, 3.0, 27.0, 757.0, 2.0, 5.0, 2.0, 29.0, 4.0, 5.0]}, {\"line\": {\"color\": \"rgba(50, 171, 96, 1.0)\", \"dash\": \"solid\", \"shape\": \"linear\", \"width\": 1.3}, \"mode\": \"lines\", \"name\": \"Bronze\", \"text\": \"\", \"type\": \"scatter\", \"x\": [\"\\u00a0Algeria\\u00a0(ALG)\", \"\\u00a0Argentina\\u00a0(ARG)\", \"\\u00a0Armenia\\u00a0(ARM)\", \"\\u00a0Australasia\\u00a0(ANZ)\\u00a0[ANZ]\", \"\\u00a0Australia\\u00a0(AUS)\\u00a0[AUS]\\u00a0[Z]\", \"\\u00a0Austria\\u00a0(AUT)\", \"\\u00a0Azerbaijan\\u00a0(AZE)\", \"\\u00a0Belarus\\u00a0(BLR)\", \"\\u00a0Belgium\\u00a0(BEL)\", \"\\u00a0Brazil\\u00a0(BRA)\", \"\\u00a0Bulgaria\\u00a0(BUL)\\u00a0[H]\", \"\\u00a0Cameroon\\u00a0(CMR)\", \"\\u00a0Canada\\u00a0(CAN)\", \"\\u00a0Chile\\u00a0(CHI)\\u00a0[I]\", \"\\u00a0China\\u00a0(CHN)\\u00a0[CHN]\", \"\\u00a0Colombia\\u00a0(COL)\", \"\\u00a0Costa Rica\\u00a0(CRC)\", \"\\u00a0Croatia\\u00a0(CRO)\", \"\\u00a0Cuba\\u00a0(CUB)\\u00a0[Z]\", \"\\u00a0Czech Republic\\u00a0(CZE)\\u00a0[CZE]\", \"\\u00a0Czechoslovakia\\u00a0(TCH)\\u00a0[TCH]\", \"\\u00a0Denmark\\u00a0(DEN)\\u00a0[Z]\", \"\\u00a0Dominican Republic\\u00a0(DOM)\", \"\\u00a0Egypt\\u00a0(EGY)\\u00a0[EGY]\\u00a0[Z]\", \"\\u00a0Estonia\\u00a0(EST)\", \"\\u00a0Ethiopia\\u00a0(ETH)\", \"\\u00a0Finland\\u00a0(FIN)\", \"\\u00a0France\\u00a0(FRA)\\u00a0[O]\\u00a0[P]\\u00a0[Z]\", \"\\u00a0Georgia\\u00a0(GEO)\", \"\\u00a0Germany\\u00a0(GER)\\u00a0[GER]\\u00a0[Z]\", \"\\u00a0United Team of Germany\\u00a0(EUA)[EUA]\", \"\\u00a0East Germany\\u00a0(GDR)\\u00a0[GDR]\", \"\\u00a0West Germany\\u00a0(FRG)\\u00a0[FRG]\", \"\\u00a0Great Britain\\u00a0(GBR)\\u00a0[GBR]\\u00a0[Z]\", \"\\u00a0Greece\\u00a0(GRE)\\u00a0[Z]\", \"\\u00a0Hong Kong\\u00a0(HKG)\\u00a0[HKG]\", \"\\u00a0Hungary\\u00a0(HUN)\", \"\\u00a0India\\u00a0(IND)\\u00a0[F]\", \"\\u00a0Indonesia\\u00a0(INA)\", \"\\u00a0Iran\\u00a0(IRI)\\u00a0[K]\", \"\\u00a0Ireland\\u00a0(IRL)\", \"\\u00a0Israel\\u00a0(ISR)\", \"\\u00a0Italy\\u00a0(ITA)\\u00a0[M]\\u00a0[S]\", \"\\u00a0Jamaica\\u00a0(JAM)\\u00a0[JAM]\", \"\\u00a0Japan\\u00a0(JPN)\", \"\\u00a0Kazakhstan\\u00a0(KAZ)\", \"\\u00a0Kenya\\u00a0(KEN)\", \"\\u00a0North Korea\\u00a0(PRK)\", \"\\u00a0South Korea\\u00a0(KOR)\", \"\\u00a0Latvia\\u00a0(LAT)\", \"\\u00a0Lithuania\\u00a0(LTU)\", \"\\u00a0Mexico\\u00a0(MEX)\", \"\\u00a0Mongolia\\u00a0(MGL)\", \"\\u00a0Morocco\\u00a0(MAR)\", \"\\u00a0Netherlands\\u00a0(NED)\\u00a0[Z]\", \"\\u00a0New Zealand\\u00a0(NZL)\\u00a0[NZL]\", \"\\u00a0Nigeria\\u00a0(NGR)\", \"\\u00a0Norway\\u00a0(NOR)\\u00a0[Q]\", \"\\u00a0Pakistan\\u00a0(PAK)\", \"\\u00a0Poland\\u00a0(POL)\", \"\\u00a0Portugal\\u00a0(POR)\", \"\\u00a0Romania\\u00a0(ROU)\", \"\\u00a0Russia\\u00a0(RUS)\\u00a0[RUS]\", \"\\u00a0Russian Empire\\u00a0(RU1)\\u00a0[RU1]\", \"\\u00a0Soviet Union\\u00a0(URS)\\u00a0[URS]\", \"\\u00a0Unified Team\\u00a0(EUN)\\u00a0[EUN]\", \"\\u00a0Serbia\\u00a0(SRB)\\u00a0[SRB]\", \"\\u00a0Serbia and Montenegro\\u00a0(SCG)[SCG]\", \"\\u00a0Slovakia\\u00a0(SVK)\\u00a0[SVK]\", \"\\u00a0Slovenia\\u00a0(SLO)\", \"\\u00a0South Africa\\u00a0(RSA)\", \"\\u00a0Spain\\u00a0(ESP)\\u00a0[Z]\", \"\\u00a0Sweden\\u00a0(SWE)\\u00a0[Z]\", \"\\u00a0Switzerland\\u00a0(SUI)\", \"\\u00a0Syria\\u00a0(SYR)\", \"\\u00a0Chinese Taipei\\u00a0(TPE)\\u00a0[TPE]\\u00a0[TPE2]\", \"\\u00a0Thailand\\u00a0(THA)\", \"\\u00a0Trinidad and Tobago\\u00a0(TRI)\\u00a0[TRI]\", \"\\u00a0Tunisia\\u00a0(TUN)\", \"\\u00a0Turkey\\u00a0(TUR)\", \"\\u00a0Uganda\\u00a0(UGA)\", \"\\u00a0Ukraine\\u00a0(UKR)\", \"\\u00a0United States\\u00a0(USA)\", \"\\u00a0Uruguay\\u00a0(URU)\", \"\\u00a0Uzbekistan\\u00a0(UZB)\", \"\\u00a0Venezuela\\u00a0(VEN)\", \"\\u00a0Yugoslavia\\u00a0(YUG)\\u00a0[YUG]\", \"\\u00a0Zimbabwe\\u00a0(ZIM)\\u00a0[ZIM]\", \"\\u00a0Mixed team\\u00a0(ZZX)\\u00a0[ZZX]\"], \"y\": [8.0, 28.0, 9.0, 5.0, 177.0, 35.0, 15.0, 39.0, 53.0, 55.0, 78.0, 1.0, 122.0, 4.0, 127.0, 11.0, 2.0, 10.0, 70.0, 15.0, 45.0, 68.0, 1.0, 11.0, 15.0, 17.0, 117.0, 246.0, 15.0, 217.0, 36.0, 127.0, 81.0, 272.0, 39.0, 1.0, 165.0, 11.0, 11.0, 25.0, 12.0, 6.0, 185.0, 20.0, 142.0, 19.0, 29.0, 21.0, 80.0, 5.0, 10.0, 28.0, 13.0, 11.0, 104.0, 39.0, 12.0, 43.0, 4.0, 125.0, 11.0, 119.0, 142.0, 3.0, 296.0, 29.0, 4.0, 3.0, 8.0, 9.0, 27.0, 35.0, 176.0, 65.0, 1.0, 12.0, 12.0, 11.0, 4.0, 24.0, 2.0, 55.0, 666.0, 6.0, 10.0, 8.0, 28.0, 1.0, 4.0]}],\n",
       "                        {\"legend\": {\"bgcolor\": \"#F5F6F9\", \"font\": {\"color\": \"#4D5663\"}}, \"paper_bgcolor\": \"#F5F6F9\", \"plot_bgcolor\": \"#F5F6F9\", \"template\": {\"data\": {\"bar\": [{\"error_x\": {\"color\": \"#2a3f5f\"}, \"error_y\": {\"color\": \"#2a3f5f\"}, \"marker\": {\"line\": {\"color\": \"#E5ECF6\", \"width\": 0.5}}, \"type\": \"bar\"}], \"barpolar\": [{\"marker\": {\"line\": {\"color\": \"#E5ECF6\", \"width\": 0.5}}, \"type\": \"barpolar\"}], \"carpet\": [{\"aaxis\": {\"endlinecolor\": \"#2a3f5f\", \"gridcolor\": \"white\", \"linecolor\": \"white\", \"minorgridcolor\": \"white\", \"startlinecolor\": \"#2a3f5f\"}, \"baxis\": {\"endlinecolor\": \"#2a3f5f\", \"gridcolor\": \"white\", \"linecolor\": \"white\", \"minorgridcolor\": \"white\", \"startlinecolor\": \"#2a3f5f\"}, \"type\": \"carpet\"}], \"choropleth\": [{\"colorbar\": {\"outlinewidth\": 0, \"ticks\": \"\"}, \"type\": \"choropleth\"}], \"contour\": [{\"colorbar\": {\"outlinewidth\": 0, \"ticks\": \"\"}, \"colorscale\": [[0.0, \"#0d0887\"], [0.1111111111111111, \"#46039f\"], [0.2222222222222222, \"#7201a8\"], [0.3333333333333333, \"#9c179e\"], [0.4444444444444444, \"#bd3786\"], [0.5555555555555556, \"#d8576b\"], [0.6666666666666666, \"#ed7953\"], [0.7777777777777778, \"#fb9f3a\"], [0.8888888888888888, \"#fdca26\"], [1.0, \"#f0f921\"]], \"type\": \"contour\"}], \"contourcarpet\": [{\"colorbar\": {\"outlinewidth\": 0, \"ticks\": \"\"}, \"type\": \"contourcarpet\"}], \"heatmap\": [{\"colorbar\": {\"outlinewidth\": 0, \"ticks\": \"\"}, \"colorscale\": [[0.0, \"#0d0887\"], [0.1111111111111111, \"#46039f\"], [0.2222222222222222, \"#7201a8\"], [0.3333333333333333, \"#9c179e\"], [0.4444444444444444, \"#bd3786\"], [0.5555555555555556, \"#d8576b\"], [0.6666666666666666, \"#ed7953\"], [0.7777777777777778, \"#fb9f3a\"], [0.8888888888888888, \"#fdca26\"], [1.0, \"#f0f921\"]], \"type\": \"heatmap\"}], \"heatmapgl\": [{\"colorbar\": {\"outlinewidth\": 0, \"ticks\": \"\"}, \"colorscale\": [[0.0, \"#0d0887\"], [0.1111111111111111, \"#46039f\"], [0.2222222222222222, \"#7201a8\"], [0.3333333333333333, \"#9c179e\"], [0.4444444444444444, \"#bd3786\"], [0.5555555555555556, \"#d8576b\"], [0.6666666666666666, \"#ed7953\"], [0.7777777777777778, \"#fb9f3a\"], [0.8888888888888888, \"#fdca26\"], [1.0, \"#f0f921\"]], \"type\": \"heatmapgl\"}], \"histogram\": [{\"marker\": {\"colorbar\": {\"outlinewidth\": 0, \"ticks\": \"\"}}, \"type\": \"histogram\"}], \"histogram2d\": [{\"colorbar\": {\"outlinewidth\": 0, \"ticks\": \"\"}, \"colorscale\": [[0.0, \"#0d0887\"], [0.1111111111111111, \"#46039f\"], [0.2222222222222222, \"#7201a8\"], [0.3333333333333333, \"#9c179e\"], [0.4444444444444444, \"#bd3786\"], [0.5555555555555556, \"#d8576b\"], [0.6666666666666666, \"#ed7953\"], [0.7777777777777778, \"#fb9f3a\"], [0.8888888888888888, \"#fdca26\"], [1.0, \"#f0f921\"]], \"type\": \"histogram2d\"}], \"histogram2dcontour\": [{\"colorbar\": {\"outlinewidth\": 0, \"ticks\": \"\"}, \"colorscale\": [[0.0, \"#0d0887\"], [0.1111111111111111, \"#46039f\"], [0.2222222222222222, \"#7201a8\"], [0.3333333333333333, \"#9c179e\"], [0.4444444444444444, \"#bd3786\"], [0.5555555555555556, \"#d8576b\"], [0.6666666666666666, \"#ed7953\"], [0.7777777777777778, \"#fb9f3a\"], [0.8888888888888888, \"#fdca26\"], [1.0, \"#f0f921\"]], \"type\": \"histogram2dcontour\"}], \"mesh3d\": [{\"colorbar\": {\"outlinewidth\": 0, \"ticks\": \"\"}, \"type\": \"mesh3d\"}], \"parcoords\": [{\"line\": {\"colorbar\": {\"outlinewidth\": 0, \"ticks\": \"\"}}, \"type\": \"parcoords\"}], \"pie\": [{\"automargin\": true, \"type\": \"pie\"}], \"scatter\": [{\"marker\": {\"colorbar\": {\"outlinewidth\": 0, \"ticks\": \"\"}}, \"type\": \"scatter\"}], \"scatter3d\": [{\"line\": {\"colorbar\": {\"outlinewidth\": 0, \"ticks\": \"\"}}, \"marker\": {\"colorbar\": {\"outlinewidth\": 0, \"ticks\": \"\"}}, \"type\": \"scatter3d\"}], \"scattercarpet\": [{\"marker\": {\"colorbar\": {\"outlinewidth\": 0, \"ticks\": \"\"}}, \"type\": \"scattercarpet\"}], \"scattergeo\": [{\"marker\": {\"colorbar\": {\"outlinewidth\": 0, \"ticks\": \"\"}}, \"type\": \"scattergeo\"}], \"scattergl\": [{\"marker\": {\"colorbar\": {\"outlinewidth\": 0, \"ticks\": \"\"}}, \"type\": \"scattergl\"}], \"scattermapbox\": [{\"marker\": {\"colorbar\": {\"outlinewidth\": 0, \"ticks\": \"\"}}, \"type\": \"scattermapbox\"}], \"scatterpolar\": [{\"marker\": {\"colorbar\": {\"outlinewidth\": 0, \"ticks\": \"\"}}, \"type\": \"scatterpolar\"}], \"scatterpolargl\": [{\"marker\": {\"colorbar\": {\"outlinewidth\": 0, \"ticks\": \"\"}}, \"type\": \"scatterpolargl\"}], \"scatterternary\": [{\"marker\": {\"colorbar\": {\"outlinewidth\": 0, \"ticks\": \"\"}}, \"type\": \"scatterternary\"}], \"surface\": [{\"colorbar\": {\"outlinewidth\": 0, \"ticks\": \"\"}, \"colorscale\": [[0.0, \"#0d0887\"], [0.1111111111111111, \"#46039f\"], [0.2222222222222222, \"#7201a8\"], [0.3333333333333333, \"#9c179e\"], [0.4444444444444444, \"#bd3786\"], [0.5555555555555556, \"#d8576b\"], [0.6666666666666666, \"#ed7953\"], [0.7777777777777778, \"#fb9f3a\"], [0.8888888888888888, \"#fdca26\"], [1.0, \"#f0f921\"]], \"type\": \"surface\"}], \"table\": [{\"cells\": {\"fill\": {\"color\": \"#EBF0F8\"}, \"line\": {\"color\": \"white\"}}, \"header\": {\"fill\": {\"color\": \"#C8D4E3\"}, \"line\": {\"color\": \"white\"}}, \"type\": \"table\"}]}, \"layout\": {\"annotationdefaults\": {\"arrowcolor\": \"#2a3f5f\", \"arrowhead\": 0, \"arrowwidth\": 1}, \"coloraxis\": {\"colorbar\": {\"outlinewidth\": 0, \"ticks\": \"\"}}, \"colorscale\": {\"diverging\": [[0, \"#8e0152\"], [0.1, \"#c51b7d\"], [0.2, \"#de77ae\"], [0.3, \"#f1b6da\"], [0.4, \"#fde0ef\"], [0.5, \"#f7f7f7\"], [0.6, \"#e6f5d0\"], [0.7, \"#b8e186\"], [0.8, \"#7fbc41\"], [0.9, \"#4d9221\"], [1, \"#276419\"]], \"sequential\": [[0.0, \"#0d0887\"], [0.1111111111111111, \"#46039f\"], [0.2222222222222222, \"#7201a8\"], [0.3333333333333333, \"#9c179e\"], [0.4444444444444444, \"#bd3786\"], [0.5555555555555556, \"#d8576b\"], [0.6666666666666666, \"#ed7953\"], [0.7777777777777778, \"#fb9f3a\"], [0.8888888888888888, \"#fdca26\"], [1.0, \"#f0f921\"]], \"sequentialminus\": [[0.0, \"#0d0887\"], [0.1111111111111111, \"#46039f\"], [0.2222222222222222, \"#7201a8\"], [0.3333333333333333, \"#9c179e\"], [0.4444444444444444, \"#bd3786\"], [0.5555555555555556, \"#d8576b\"], [0.6666666666666666, \"#ed7953\"], [0.7777777777777778, \"#fb9f3a\"], [0.8888888888888888, \"#fdca26\"], [1.0, \"#f0f921\"]]}, \"colorway\": [\"#636efa\", \"#EF553B\", \"#00cc96\", \"#ab63fa\", \"#FFA15A\", \"#19d3f3\", \"#FF6692\", \"#B6E880\", \"#FF97FF\", \"#FECB52\"], \"font\": {\"color\": \"#2a3f5f\"}, \"geo\": {\"bgcolor\": \"white\", \"lakecolor\": \"white\", \"landcolor\": \"#E5ECF6\", \"showlakes\": true, \"showland\": true, \"subunitcolor\": \"white\"}, \"hoverlabel\": {\"align\": \"left\"}, \"hovermode\": \"closest\", \"mapbox\": {\"style\": \"light\"}, \"paper_bgcolor\": \"white\", \"plot_bgcolor\": \"#E5ECF6\", \"polar\": {\"angularaxis\": {\"gridcolor\": \"white\", \"linecolor\": \"white\", \"ticks\": \"\"}, \"bgcolor\": \"#E5ECF6\", \"radialaxis\": {\"gridcolor\": \"white\", \"linecolor\": \"white\", \"ticks\": \"\"}}, \"scene\": {\"xaxis\": {\"backgroundcolor\": \"#E5ECF6\", \"gridcolor\": \"white\", \"gridwidth\": 2, \"linecolor\": \"white\", \"showbackground\": true, \"ticks\": \"\", \"zerolinecolor\": \"white\"}, \"yaxis\": {\"backgroundcolor\": \"#E5ECF6\", \"gridcolor\": \"white\", \"gridwidth\": 2, \"linecolor\": \"white\", \"showbackground\": true, \"ticks\": \"\", \"zerolinecolor\": \"white\"}, \"zaxis\": {\"backgroundcolor\": \"#E5ECF6\", \"gridcolor\": \"white\", \"gridwidth\": 2, \"linecolor\": \"white\", \"showbackground\": true, \"ticks\": \"\", \"zerolinecolor\": \"white\"}}, \"shapedefaults\": {\"line\": {\"color\": \"#2a3f5f\"}}, \"ternary\": {\"aaxis\": {\"gridcolor\": \"white\", \"linecolor\": \"white\", \"ticks\": \"\"}, \"baxis\": {\"gridcolor\": \"white\", \"linecolor\": \"white\", \"ticks\": \"\"}, \"bgcolor\": \"#E5ECF6\", \"caxis\": {\"gridcolor\": \"white\", \"linecolor\": \"white\", \"ticks\": \"\"}}, \"title\": {\"x\": 0.05}, \"xaxis\": {\"automargin\": true, \"gridcolor\": \"white\", \"linecolor\": \"white\", \"ticks\": \"\", \"title\": {\"standoff\": 15}, \"zerolinecolor\": \"white\", \"zerolinewidth\": 2}, \"yaxis\": {\"automargin\": true, \"gridcolor\": \"white\", \"linecolor\": \"white\", \"ticks\": \"\", \"title\": {\"standoff\": 15}, \"zerolinecolor\": \"white\", \"zerolinewidth\": 2}}}, \"title\": {\"font\": {\"color\": \"#4D5663\"}}, \"xaxis\": {\"gridcolor\": \"#E1E5ED\", \"showgrid\": true, \"tickfont\": {\"color\": \"#4D5663\"}, \"title\": {\"font\": {\"color\": \"#4D5663\"}, \"text\": \"\"}, \"zerolinecolor\": \"#E1E5ED\"}, \"yaxis\": {\"gridcolor\": \"#E1E5ED\", \"showgrid\": true, \"tickfont\": {\"color\": \"#4D5663\"}, \"title\": {\"font\": {\"color\": \"#4D5663\"}, \"text\": \"\"}, \"zerolinecolor\": \"#E1E5ED\"}},\n",
       "                        {\"showLink\": true, \"linkText\": \"Export to plot.ly\", \"plotlyServerURL\": \"https://plot.ly\", \"responsive\": true}\n",
       "                    ).then(function(){\n",
       "                            \n",
       "var gd = document.getElementById('e48aa88e-6ecc-4f09-bdc6-e0b481a62c57');\n",
       "var x = new MutationObserver(function (mutations, observer) {{\n",
       "        var display = window.getComputedStyle(gd).display;\n",
       "        if (!display || display === 'none') {{\n",
       "            console.log([gd, 'removed!']);\n",
       "            Plotly.purge(gd);\n",
       "            observer.disconnect();\n",
       "        }}\n",
       "}});\n",
       "\n",
       "// Listen for the removal of the full notebook cells\n",
       "var notebookContainer = gd.closest('#notebook-container');\n",
       "if (notebookContainer) {{\n",
       "    x.observe(notebookContainer, {childList: true});\n",
       "}}\n",
       "\n",
       "// Listen for the clearing of the current output cell\n",
       "var outputEl = gd.closest('.output');\n",
       "if (outputEl) {{\n",
       "    x.observe(outputEl, {childList: true});\n",
       "}}\n",
       "\n",
       "                        })\n",
       "                };\n",
       "                });\n",
       "            </script>\n",
       "        </div>"
      ]
     },
     "metadata": {},
     "output_type": "display_data"
    }
   ],
   "source": [
    "data.iplot(kind='scatter')"
   ]
  },
  {
   "cell_type": "code",
   "execution_count": null,
   "metadata": {},
   "outputs": [],
   "source": []
  },
  {
   "cell_type": "code",
   "execution_count": null,
   "metadata": {},
   "outputs": [],
   "source": []
  }
 ],
 "metadata": {
  "kernelspec": {
   "display_name": "Python 3",
   "language": "python",
   "name": "python3"
  },
  "language_info": {
   "codemirror_mode": {
    "name": "ipython",
    "version": 3
   },
   "file_extension": ".py",
   "mimetype": "text/x-python",
   "name": "python",
   "nbconvert_exporter": "python",
   "pygments_lexer": "ipython3",
   "version": "3.7.4"
  }
 },
 "nbformat": 4,
 "nbformat_minor": 2
}
